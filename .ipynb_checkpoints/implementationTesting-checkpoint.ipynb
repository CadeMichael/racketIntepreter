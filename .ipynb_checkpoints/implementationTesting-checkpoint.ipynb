{
 "cells": [
  {
   "cell_type": "code",
   "execution_count": 10,
   "metadata": {},
   "outputs": [],
   "source": [
    "(require \"simpleParser.rkt\")"
   ]
  },
  {
   "cell_type": "code",
   "execution_count": 11,
   "metadata": {},
   "outputs": [
    {
     "data": {
      "text/html": [
       "<code>'((var x) (= x 10) (var y (+ (* 3 x) 5)) (while (!= (% y x) 3) (= y (+ y 1))) (if (&gt; x y) (return x) (if (&gt; (* x x) y) (return (* x x)) (if (&gt; (* x (+ x x)) y) (return (* x (+ x x))) (return (- y 1))))))</code>"
      ],
      "text/plain": [
       "'((var x) (= x 10) (var y (+ (* 3 x) 5)) (while (!= (% y x) 3) (= y (+ y 1))) (if (> x y) (return x) (if (> (* x x) y) (return (* x x)) (if (> (* x (+ x x)) y) (return (* x (+ x x))) (return (- y 1))))))"
      ]
     },
     "execution_count": 11,
     "metadata": {},
     "output_type": "execute_result"
    }
   ],
   "source": [
    "(parser \"testFile.txt\")"
   ]
  },
  {
   "cell_type": "markdown",
   "metadata": {},
   "source": [
    "### Doing states\n",
    "\n",
    "- dont need side effects \n",
    "- should be similar to the written homework (almost exactly) \n",
    "\n",
    "### variables \n",
    "\n",
    "- type is inferred from its use \n",
    "- `var`\n",
    "\n",
    "### Abstraction\n",
    "\n",
    "- terms and helper functions to name things and not do everything with car's and cdr's \n",
    "- doing exercises from class!!! they are what are done durring live lectures \n",
    "\n",
    "*do not need tail recursion for this part of the project* "
   ]
  },
  {
   "cell_type": "code",
   "execution_count": 1,
   "metadata": {},
   "outputs": [],
   "source": [
    "; M-integer maps expressions to integer values\n",
    "; (M-integer '(+ 3 5))   => 8\n",
    "; (M-integer '(/ 9 3))   => 3\n",
    "; (M-integer '(/ 8 3))   => 2\n",
    "; (M-integer '(* (+ 4 3) (- 2 1))  => 7\n",
    "; operators +, -, *, /, %\n",
    "(define M-integer\n",
    "  (lambda (expression)\n",
    "    (cond\n",
    "      ((number? expression) expression)\n",
    "      ((eq? (operator expression) '+) (+ (M-integer (leftoperand expression)) (M-integer (rightoperand expression))))\n",
    "      ((eq? (operator expression) '-) (- (M-integer (leftoperand expression)) (M-integer (rightoperand expression))))\n",
    "      ((eq? (operator expression) '*) (* (M-integer (leftoperand expression)) (M-integer (rightoperand expression))))\n",
    "      ((eq? (operator expression) '/) (quotient (M-integer (leftoperand expression)) (M-integer (rightoperand expression))))\n",
    "      ((eq? (operator expression) '%) (remainder (M-integer (leftoperand expression)) (M-integer (rightoperand expression))))\n",
    "      (else (error 'bad-operator)))))\n",
    "\n",
    "; ABSTRACTION\n",
    "(define operator car)\n",
    "(define leftoperand cadr)\n",
    "(define rightoperand caddr)"
   ]
  },
  {
   "cell_type": "code",
   "execution_count": 2,
   "metadata": {},
   "outputs": [
    {
     "data": {
      "text/html": [
       "<code>8</code>"
      ],
      "text/plain": [
       "8"
      ]
     },
     "execution_count": 2,
     "metadata": {},
     "output_type": "execute_result"
    }
   ],
   "source": [
    "(M-integer '(+ 3 5))"
   ]
  },
  {
   "cell_type": "code",
   "execution_count": 5,
   "metadata": {},
   "outputs": [],
   "source": [
    "; examples of abstraction, name more specifically - give very detailed names \n",
    "\n",
    "(define var car)\n",
    "(define variable cadr)\n",
    "(define value cddr)"
   ]
  },
  {
   "cell_type": "code",
   "execution_count": 17,
   "metadata": {},
   "outputs": [
    {
     "name": "stderr",
     "output_type": "stream",
     "text": [
      "eval:3:0: read-syntax: expected a `)` to close `(`\n",
      "  context...:\n",
      "   /usr/local/Cellar/minimal-racket/8.0/share/racket/pkgs/sandbox-lib/racket/sandbox.rkt:113:0: default-sandbox-reader\n",
      "   /usr/local/Cellar/minimal-racket/8.0/share/racket/pkgs/sandbox-lib/racket/sandbox.rkt:571:0: input->code\n",
      "   /usr/local/Cellar/minimal-racket/8.0/share/racket/pkgs/sandbox-lib/racket/sandbox.rkt:897:14\n"
     ]
    }
   ],
   "source": [
    "; (var = value)\n",
    "\n",
    "(define M-declare\n",
    "  (lambda (equation state)\n",
    "    (cond\n",
    "     (())))"
   ]
  },
  {
   "cell_type": "code",
   "execution_count": 43,
   "metadata": {},
   "outputs": [],
   "source": [
    "(define remove\n",
    "  (lambda (var state)\n",
    "    (cond\n",
    "      ((null? state) '())\n",
    "      ((eq? var (car (car state))) (cdr state))\n",
    "      (else (cons (car state) (remove var (cdr state)))))))"
   ]
  },
  {
   "cell_type": "code",
   "execution_count": 44,
   "metadata": {},
   "outputs": [
    {
     "data": {
      "text/html": [
       "<code>'((y 5))</code>"
      ],
      "text/plain": [
       "'((y 5))"
      ]
     },
     "execution_count": 44,
     "metadata": {},
     "output_type": "execute_result"
    }
   ],
   "source": [
    "(remove 'x '((x 10)(y 5)))"
   ]
  },
  {
   "cell_type": "code",
   "execution_count": 69,
   "metadata": {},
   "outputs": [],
   "source": [
    "(define add \n",
    "  (lambda (variable value state)\n",
    "    (cons (cons variable value ) state)))"
   ]
  },
  {
   "cell_type": "code",
   "execution_count": 49,
   "metadata": {},
   "outputs": [
    {
     "data": {
      "text/html": [
       "<code>10</code>"
      ],
      "text/plain": [
       "10"
      ]
     },
     "execution_count": 49,
     "metadata": {},
     "output_type": "execute_result"
    }
   ],
   "source": [
    "(caddr '(var x 10))"
   ]
  },
  {
   "cell_type": "code",
   "execution_count": 55,
   "metadata": {},
   "outputs": [],
   "source": [
    "; State management\n",
    "\n",
    ";(define state '())\n",
    "\n",
    "; state is something we pass between functions as it is used \n",
    ";var x = 10;\n",
    ";var z;\n",
    ";var y = 6;\n",
    "\n",
    "; ---how we're defining state ---\n",
    "(define state '((y x z)(6 15 true)))\n",
    ";state\n",
    "(define vars car)\n",
    "(define vals cadr)\n",
    "\n",
    ";-----re-write add and remove\n",
    "(define add \n",
    "  (lambda (state variable value)\n",
    "    (cons (cons variable (vars state)) (list (cons value (vals state))))))\n",
    "\n",
    "(define remove \n",
    "  (lambda (state variable)\n",
    "    (cond \n",
    "     ((null? (vars state) '()))\n",
    "     ((eq? (car (vars state)) variable) (cons (cdr (vars state))(cdr (vals state))))\n",
    "     (else (cons \n",
    "            (cons (car (vars state))(list (car (vals state))))\n",
    "            (remove (cons (cdr (vars state))(cdr (vals state))) variable))))))"
   ]
  },
  {
   "cell_type": "code",
   "execution_count": 56,
   "metadata": {},
   "outputs": [
    {
     "data": {
      "text/html": [
       "<code>'((a y x z) (10 6 15 true))</code>"
      ],
      "text/plain": [
       "'((a y x z) (10 6 15 true))"
      ]
     },
     "execution_count": 56,
     "metadata": {},
     "output_type": "execute_result"
    }
   ],
   "source": [
    "(define state '((y x z)(6 15 true)))\n",
    "\n",
    "(add state 'a '10)\n",
    ";(cons 'a (car state))\n",
    ";(cons '10 (cadr state))\n",
    ";(cons (cons 'a (car state)) (cons '10 (cadr state)))\n",
    ";(cons '(a y x z) (list '(10 6 15 true)))"
   ]
  },
  {
   "cell_type": "code",
   "execution_count": 57,
   "metadata": {},
   "outputs": [
    {
     "name": "stderr",
     "output_type": "stream",
     "text": [
      "null?: arity mismatch;\n",
      " the expected number of arguments does not match the given number\n",
      "  expected: 1\n",
      "  given: 2\n",
      "  context...:\n",
      "   body of top-level\n"
     ]
    }
   ],
   "source": [
    "(remove state 'z)"
   ]
  },
  {
   "cell_type": "code",
   "execution_count": 68,
   "metadata": {},
   "outputs": [
    {
     "data": {
      "text/html": [
       "<code>'(x 10)</code>"
      ],
      "text/plain": [
       "'(x 10)"
      ]
     },
     "execution_count": 68,
     "metadata": {},
     "output_type": "execute_result"
    }
   ],
   "source": [
    "(cons (cadr '(var x 10)) (cddr '(var x 10))) "
   ]
  },
  {
   "cell_type": "code",
   "execution_count": 95,
   "metadata": {},
   "outputs": [
    {
     "data": {
      "text/html": [
       "<code>'(10)</code>"
      ],
      "text/plain": [
       "'(10)"
      ]
     },
     "execution_count": 95,
     "metadata": {},
     "output_type": "execute_result"
    }
   ],
   "source": [
    "(cddr '(var x 10))"
   ]
  },
  {
   "cell_type": "code",
   "execution_count": 96,
   "metadata": {},
   "outputs": [
    {
     "data": {
      "text/html": [
       "<code>'()</code>"
      ],
      "text/plain": [
       "'()"
      ]
     },
     "execution_count": 96,
     "metadata": {},
     "output_type": "execute_result"
    }
   ],
   "source": [
    "(cddr '(var x))"
   ]
  },
  {
   "cell_type": "markdown",
   "metadata": {},
   "source": [
    "### Things that have to be working at base level\n",
    "\n",
    "- m_state\n",
    "- m_int\n",
    "- m_bool\n",
    "- add\n",
    "- remove \n",
    "- m_name\n",
    "- m_value\n",
    "\n",
    "### problem 5\n",
    "\n",
    "```c\n",
    "Mstate(<var> = <assignment>, s) = \n",
    "    /* assumed basic error check for these, just like in lecture */\n",
    "    s' := Mstate(<assignment>,s) /* s1 is the state after the assignment in case it has sideeffects */\n",
    "    s1 := Remove(Mname(<var>),s')\n",
    "    s2 := Add(Mname(<var>), Mvalue(<assignment>,s), s1) /* must evaluate before the state change (s) */\n",
    "```\n",
    "\n",
    "```c\n",
    "Mstate(if(<condition>) <statement1> else <statement2>) =\n",
    "    /* basic error check */\n",
    "    s' := Mstate(<condittion>,s) /* account for possible side effect state change */\n",
    "    if Mboolean(<condition>,s) == true then \n",
    "        Mstate(<statement1>,s')\n",
    "    else\n",
    "        Mstate(<statement2>,s') /* changes in condition should persist in the else statement */\n",
    "```\n",
    "\n",
    "```c\n",
    "Mstate(while(<condition>) <loop body>, s) = \n",
    "    /* basic error check */\n",
    "    s' := Mstate(<condition>, s)\n",
    "    if Mboolean(<condition>,s) == true then /* run the test on the old state */\n",
    "        Mstate(while(<condition>) <loop body>, Mstate(<loop body>, s'))\n",
    "    else \n",
    "        s'\n",
    "```"
   ]
  },
  {
   "cell_type": "code",
   "execution_count": 7,
   "metadata": {},
   "outputs": [
    {
     "name": "stderr",
     "output_type": "stream",
     "text": [
      "eval:6:5: cond: bad syntax (clause is not a test-value pair)\n",
      "  at: ()\n",
      "  in: (cond () () () () () ())\n",
      "  context...:\n",
      "   /usr/local/Cellar/minimal-racket/8.0/share/racket/collects/racket/private/cond.rkt:21:13: go\n",
      "   /usr/local/Cellar/minimal-racket/8.0/share/racket/pkgs/sandbox-lib/racket/sandbox.rkt:697:9: loop\n"
     ]
    }
   ],
   "source": [
    "; functions we have to code for the working project \n",
    "\n",
    "(define M_state\n",
    "  (lambda (expresssion state)\n",
    "    (cond\n",
    "     ; make helper functions for each case\n",
    "     ((eq 'var (car expression))) ; declaration ---> Cade\n",
    "     ((eq '= (car expression))) ; assignment ---> Cade\n",
    "     ((eq 'return (car expression))) ; return \n",
    "     () ; while\n",
    "     () ; if \n",
    "     ())))\n",
    "  \n",
    "(define M_int ; -----> Cade\n",
    "  (lambda (expression) ; does this need state?\n",
    "    ()))\n",
    "\n",
    "(define M_name ; ----> Cade\n",
    "  (lambda (variable)\n",
    "    (cond\n",
    "     () \n",
    "     )))\n",
    "\n",
    "(define M_value\n",
    "  (lambda (assignment state)\n",
    "    (cond\n",
    "     ()\n",
    "     ())))\n",
    "\n",
    "(define M_boolean\n",
    "  (lambda (condition state)\n",
    "    (cond)))\n",
    "\n",
    "(define add ; ---> Cade\n",
    "  (lambda (variable value state)))\n",
    "\n",
    "(define remove ; ---> Cade\n",
    "  (lambda (variable state)))"
   ]
  },
  {
   "cell_type": "code",
   "execution_count": 8,
   "metadata": {},
   "outputs": [],
   "source": [
    "(define parse '((var x) (= x 10) (var y (+ (* 3 x) 5)) (while (!= (% y x) 3) (= y (+ y 1))) (if (> x y) (return x) (if (> (* x x) y) (return (* x x)) (if (> (* x (+ x x)) y) (return (* x (+ x x))) (return (- y 1)))))))"
   ]
  },
  {
   "cell_type": "code",
   "execution_count": 9,
   "metadata": {},
   "outputs": [
    {
     "data": {
      "text/html": [
       "<code>'var</code>"
      ],
      "text/plain": [
       "'var"
      ]
     },
     "execution_count": 9,
     "metadata": {},
     "output_type": "execute_result"
    }
   ],
   "source": [
    "(car (car parse))"
   ]
  },
  {
   "cell_type": "code",
   "execution_count": 11,
   "metadata": {},
   "outputs": [
    {
     "data": {
      "text/html": [
       "<code>#t</code>"
      ],
      "text/plain": [
       "#t"
      ]
     },
     "execution_count": 11,
     "metadata": {},
     "output_type": "execute_result"
    }
   ],
   "source": [
    "(eq? 'var (car (car parse)))"
   ]
  },
  {
   "cell_type": "code",
   "execution_count": 12,
   "metadata": {},
   "outputs": [],
   "source": [
    "(define interpret\n",
    "  (lambda (parse state)\n",
    "    (cond\n",
    "     ((null? (cdr parse)) '())\n",
    "     ((null? (parse)) '())\n",
    "     (else (interpret (cdr parse) (M_state (car parse)))))))"
   ]
  },
  {
   "cell_type": "code",
   "execution_count": null,
   "metadata": {},
   "outputs": [],
   "source": []
  }
 ],
 "metadata": {
  "kernelspec": {
   "display_name": "Racket",
   "language": "racket",
   "name": "racket"
  },
  "language_info": {
   "codemirror_mode": "scheme",
   "file_extension": ".rkt",
   "mimetype": "text/x-racket",
   "name": "Racket",
   "pygments_lexer": "racket",
   "version": "8.0"
  }
 },
 "nbformat": 4,
 "nbformat_minor": 4
}
