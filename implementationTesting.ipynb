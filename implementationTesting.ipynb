{
 "cells": [
  {
   "cell_type": "code",
   "execution_count": 1,
   "metadata": {},
   "outputs": [],
   "source": [
    "(require \"simpleParser.rkt\")"
   ]
  },
  {
   "cell_type": "code",
   "execution_count": 3,
   "metadata": {},
   "outputs": [
    {
     "data": {
      "text/html": [
       "<code>'((var x) (= x 10) (var y (+ (* 3 x) 5)) (while (!= (% y x) 3) (= y (+ y 1))) (if (&gt; x y) (return x) (if (&gt; (* x x) y) (return (* x x)) (if (&gt; (* x (+ x x)) y) (return (* x (+ x x))) (return (- y 1))))))</code>"
      ],
      "text/plain": [
       "'((var x) (= x 10) (var y (+ (* 3 x) 5)) (while (!= (% y x) 3) (= y (+ y 1))) (if (> x y) (return x) (if (> (* x x) y) (return (* x x)) (if (> (* x (+ x x)) y) (return (* x (+ x x))) (return (- y 1))))))"
      ]
     },
     "execution_count": 3,
     "metadata": {},
     "output_type": "execute_result"
    }
   ],
   "source": [
    "(parser \"testFile.txt\")"
   ]
  },
  {
   "cell_type": "markdown",
   "metadata": {},
   "source": [
    "### Doing states\n",
    "\n",
    "- dont need side effects \n",
    "- should be similar to the written homework (almost exactly) \n",
    "\n",
    "### variables \n",
    "\n",
    "- type is inferred from its use \n",
    "- `var`\n",
    "\n",
    "### Abstraction\n",
    "\n",
    "- terms and helper functions to name things and not do everything with car's and cdr's \n",
    "- doing exercises from class!!! they are what are done durring live lectures \n",
    "\n",
    "*do not need tail recursion for this part of the project* "
   ]
  },
  {
   "cell_type": "code",
   "execution_count": null,
   "metadata": {},
   "outputs": [],
   "source": []
  }
 ],
 "metadata": {
  "kernelspec": {
   "display_name": "Racket",
   "language": "racket",
   "name": "racket"
  },
  "language_info": {
   "codemirror_mode": "scheme",
   "file_extension": ".rkt",
   "mimetype": "text/x-racket",
   "name": "Racket",
   "pygments_lexer": "racket",
   "version": "8.0"
  }
 },
 "nbformat": 4,
 "nbformat_minor": 4
}
