{
 "cells": [
  {
   "cell_type": "code",
   "execution_count": 56,
   "metadata": {},
   "outputs": [],
   "source": [
    "(require \"simpleParser.rkt\")\n",
    "(define (atom? x)\n",
    "  (and (not (null? x))\n",
    "       (not (pair? x))))"
   ]
  },
  {
   "cell_type": "code",
   "execution_count": 4,
   "metadata": {},
   "outputs": [
    {
     "data": {
      "text/html": [
       "<code>'((var x) (= x 10) (var y (+ (* 3 x) 5)) (while (!= (% y x) 3) (= y (+ y 1))) (if (&gt; x y) (return x) (if (&gt; (* x x) y) (return (* x x)) (if (&gt; (* x (+ x x)) y) (return (* x (+ x x))) (return (- y 1))))))</code>"
      ],
      "text/plain": [
       "'((var x) (= x 10) (var y (+ (* 3 x) 5)) (while (!= (% y x) 3) (= y (+ y 1))) (if (> x y) (return x) (if (> (* x x) y) (return (* x x)) (if (> (* x (+ x x)) y) (return (* x (+ x x))) (return (- y 1))))))"
      ]
     },
     "execution_count": 4,
     "metadata": {},
     "output_type": "execute_result"
    }
   ],
   "source": [
    "(parser \"testFile.txt\")"
   ]
  },
  {
   "cell_type": "markdown",
   "metadata": {},
   "source": [
    "### Doing states\n",
    "\n",
    "- dont need side effects \n",
    "- should be similar to the written homework (almost exactly) \n",
    "\n",
    "### variables \n",
    "\n",
    "- type is inferred from its use \n",
    "- `var`\n",
    "\n",
    "### Abstraction\n",
    "\n",
    "- terms and helper functions to name things and not do everything with car's and cdr's \n",
    "- doing exercises from class!!! they are what are done durring live lectures \n",
    "\n",
    "*do not need tail recursion for this part of the project* "
   ]
  },
  {
   "cell_type": "code",
   "execution_count": 59,
   "metadata": {},
   "outputs": [],
   "source": [
    "; M-integer maps expressions to integer values\n",
    "; (M-integer '(+ 3 5))   => 8\n",
    "; (M-integer '(/ 9 3))   => 3\n",
    "; (M-integer '(/ 8 3))   => 2\n",
    "; (M-integer '(* (+ 4 3) (- 2 1))  => 7\n",
    "; operators +, -, *, /, %\n",
    "(define M-integer\n",
    "  (lambda (expression s)\n",
    "    (cond\n",
    "      ((number? expression) expression)\n",
    "      ((atom? expression) (get_var_value expression s))\n",
    "      ((eq? (operator expression) '+) (+ (M-integer (leftoperand expression) s) (M-integer (rightoperand expression) s)))\n",
    "      ((eq? (operator expression) '-) (- (M-integer (leftoperand expression) s) (M-integer (rightoperand expression) s)))\n",
    "      ((eq? (operator expression) '*) (* (M-integer (leftoperand expression) s) (M-integer (rightoperand expression) s)))\n",
    "      ((eq? (operator expression) '/) (quotient (M-integer (leftoperand expression) s) (M-integer (rightoperand expression) s)))\n",
    "      ((eq? (operator expression) '%) (remainder (M-integer (leftoperand expression) s) (M-integer (rightoperand expression) s)))\n",
    "      (else (error 'bad-operator)))))\n",
    "\n",
    "; ABSTRACTION\n",
    "(define operator car)\n",
    "(define leftoperand cadr)\n",
    "(define rightoperand caddr)"
   ]
  },
  {
   "cell_type": "code",
   "execution_count": 61,
   "metadata": {},
   "outputs": [
    {
     "data": {
      "text/html": [
       "<code>7</code>"
      ],
      "text/plain": [
       "7"
      ]
     },
     "execution_count": 61,
     "metadata": {},
     "output_type": "execute_result"
    }
   ],
   "source": [
    "(M-integer '(+ 3 4) state)"
   ]
  },
  {
   "cell_type": "code",
   "execution_count": 7,
   "metadata": {},
   "outputs": [],
   "source": [
    "; examples of abstraction, name more specifically - give very detailed names \n",
    "\n",
    "(define var car)\n",
    "(define variable cadr)\n",
    "(define value cddr)"
   ]
  },
  {
   "cell_type": "code",
   "execution_count": 8,
   "metadata": {},
   "outputs": [
    {
     "name": "stderr",
     "output_type": "stream",
     "text": [
      "eval:3:0: read-syntax: expected a `)` to close `(`\n",
      "  context...:\n",
      "   /usr/local/Cellar/minimal-racket/8.0/share/racket/pkgs/sandbox-lib/racket/sandbox.rkt:113:0: default-sandbox-reader\n",
      "   /usr/local/Cellar/minimal-racket/8.0/share/racket/pkgs/sandbox-lib/racket/sandbox.rkt:571:0: input->code\n",
      "   /usr/local/Cellar/minimal-racket/8.0/share/racket/pkgs/sandbox-lib/racket/sandbox.rkt:897:14\n"
     ]
    }
   ],
   "source": [
    "; (var = value)\n",
    "\n",
    "(define M-declare\n",
    "  (lambda (equation state)\n",
    "    (cond\n",
    "     (())))"
   ]
  },
  {
   "cell_type": "code",
   "execution_count": 9,
   "metadata": {},
   "outputs": [],
   "source": [
    "(define remove\n",
    "  (lambda (var state)\n",
    "    (cond\n",
    "      ((null? state) '())\n",
    "      ((eq? var (car (car state))) (cdr state))\n",
    "      (else (cons (car state) (remove var (cdr state)))))))"
   ]
  },
  {
   "cell_type": "code",
   "execution_count": 10,
   "metadata": {},
   "outputs": [
    {
     "data": {
      "text/html": [
       "<code>'((y 5))</code>"
      ],
      "text/plain": [
       "'((y 5))"
      ]
     },
     "execution_count": 10,
     "metadata": {},
     "output_type": "execute_result"
    }
   ],
   "source": [
    "(remove 'x '((x 10)(y 5)))"
   ]
  },
  {
   "cell_type": "code",
   "execution_count": 11,
   "metadata": {},
   "outputs": [],
   "source": [
    "(define add \n",
    "  (lambda (variable value state)\n",
    "    (cons (cons variable value ) state)))"
   ]
  },
  {
   "cell_type": "code",
   "execution_count": 12,
   "metadata": {},
   "outputs": [
    {
     "data": {
      "text/html": [
       "<code>10</code>"
      ],
      "text/plain": [
       "10"
      ]
     },
     "execution_count": 12,
     "metadata": {},
     "output_type": "execute_result"
    }
   ],
   "source": [
    "(caddr '(var x 10))"
   ]
  },
  {
   "cell_type": "code",
   "execution_count": 13,
   "metadata": {},
   "outputs": [],
   "source": [
    "; State management\n",
    "\n",
    ";(define state '())\n",
    "\n",
    "; state is something we pass between functions as it is used \n",
    ";var x = 10;\n",
    ";var z;\n",
    ";var y = 6;\n",
    "\n",
    "; ---how we're defining state ---\n",
    "(define state '((y x z)(6 15 true)))\n",
    ";state abstractions \n",
    "(define vars car)\n",
    "(define vals cadr)\n",
    "\n",
    "; add with list of two lists \n",
    "(define add \n",
    "  (lambda (s variable value)\n",
    "    (cons (cons variable (vars s)) (list (cons value (vals s))))))\n",
    "\n",
    "; remove with list of two lists\n",
    "(define remove \n",
    "  (lambda (s variable)\n",
    "    (cond \n",
    "     ((null? (vars s)) '(()()))\n",
    "     ((eq? (car (vars s)) variable) (cons (cdr (vars s))(list (cdr (vals s)))))\n",
    "     (else (cons \n",
    "            (cons (car (vars s))(vars (remove (cons (cdr (vars s))(list (cdr (vals s)))) variable)))\n",
    "            (list (cons (car (vals s))(vals (remove (cons (cdr (vars s))(list (cdr (vals s)))) variable)))))))))"
   ]
  },
  {
   "cell_type": "code",
   "execution_count": 14,
   "metadata": {},
   "outputs": [
    {
     "data": {
      "text/html": [
       "<code>'((a b c d e f g y i z) (1 2 3 4 5 6 7 () 9 ()))</code>"
      ],
      "text/plain": [
       "'((a b c d e f g y i z) (1 2 3 4 5 6 7 () 9 ()))"
      ]
     },
     "execution_count": 14,
     "metadata": {},
     "output_type": "execute_result"
    }
   ],
   "source": [
    "; state \n",
    "(define state '((a b c d e f g h y i z)(1 2 3 4 5 6 7 8 () 9 ())))\n",
    "; remove tests\n",
    "(remove state 'h)"
   ]
  },
  {
   "cell_type": "code",
   "execution_count": 15,
   "metadata": {},
   "outputs": [
    {
     "data": {
      "text/html": [
       "<code>'(a b c d e f g h y i z)</code>"
      ],
      "text/plain": [
       "'(a b c d e f g h y i z)"
      ]
     },
     "execution_count": 15,
     "metadata": {},
     "output_type": "execute_result"
    }
   ],
   "source": [
    "(cons (car (vals state))(list (cadr (vals state))))\n",
    "(vals state)\n",
    "(vars state)"
   ]
  },
  {
   "cell_type": "code",
   "execution_count": 16,
   "metadata": {},
   "outputs": [
    {
     "data": {
      "text/html": [
       "<code>'(10)</code>"
      ],
      "text/plain": [
       "'(10)"
      ]
     },
     "execution_count": 16,
     "metadata": {},
     "output_type": "execute_result"
    }
   ],
   "source": [
    "(cddr '(var x 10))"
   ]
  },
  {
   "cell_type": "code",
   "execution_count": 17,
   "metadata": {},
   "outputs": [
    {
     "data": {
      "text/html": [
       "<code>'()</code>"
      ],
      "text/plain": [
       "'()"
      ]
     },
     "execution_count": 17,
     "metadata": {},
     "output_type": "execute_result"
    }
   ],
   "source": [
    "(cddr '(var x))"
   ]
  },
  {
   "cell_type": "markdown",
   "metadata": {},
   "source": [
    "### Things that have to be working at base level\n",
    "\n",
    "- m_state\n",
    "- m_int\n",
    "- m_bool\n",
    "- add\n",
    "- remove \n",
    "- m_name\n",
    "- m_value\n",
    "\n",
    "### problem 5\n",
    "\n",
    "```c\n",
    "Mstate(<var> = <assignment>, s) = \n",
    "    /* assumed basic error check for these, just like in lecture */\n",
    "    s' := Mstate(<assignment>,s) /* s1 is the state after the assignment in case it has sideeffects */\n",
    "    s1 := Remove(Mname(<var>),s')\n",
    "    s2 := Add(Mname(<var>), Mvalue(<assignment>,s), s1) /* must evaluate before the state change (s) */\n",
    "```\n",
    "\n",
    "```c\n",
    "Mstate(if(<condition>) <statement1> else <statement2>) =\n",
    "    /* basic error check */\n",
    "    s' := Mstate(<condittion>,s) /* account for possible side effect state change */\n",
    "    if Mboolean(<condition>,s) == true then \n",
    "        Mstate(<statement1>,s')\n",
    "    else\n",
    "        Mstate(<statement2>,s') /* changes in condition should persist in the else statement */\n",
    "```\n",
    "\n",
    "```c\n",
    "Mstate(while(<condition>) <loop body>, s) = \n",
    "    /* basic error check */\n",
    "    s' := Mstate(<condition>, s)\n",
    "    if Mboolean(<condition>,s) == true then /* run the test on the old state */\n",
    "        Mstate(while(<condition>) <loop body>, Mstate(<loop body>, s'))\n",
    "    else \n",
    "        s'\n",
    "```"
   ]
  },
  {
   "cell_type": "code",
   "execution_count": 18,
   "metadata": {},
   "outputs": [
    {
     "name": "stderr",
     "output_type": "stream",
     "text": [
      "eval:10:5: cond: bad syntax (clause is not a test-value pair)\n",
      "  at: ()\n",
      "  in: (cond ((eq (quote var) (car expression))) ((eq (quote =) (car expression))) ((eq (quote return) (car expression))) () () ())\n",
      "  context...:\n",
      "   /usr/local/Cellar/minimal-racket/8.0/share/racket/collects/racket/private/cond.rkt:31:23: loop\n",
      "   [repeats 2 more times]\n",
      "   /usr/local/Cellar/minimal-racket/8.0/share/racket/collects/racket/private/cond.rkt:21:13: go\n",
      "   /usr/local/Cellar/minimal-racket/8.0/share/racket/pkgs/sandbox-lib/racket/sandbox.rkt:697:9: loop\n"
     ]
    }
   ],
   "source": [
    "; functions we have to code for the working project \n",
    "\n",
    "(define M_state\n",
    "  (lambda (expresssion state)\n",
    "    (cond\n",
    "     ; make helper functions for each case\n",
    "     ((eq 'var (car expression))) ; declaration ---> Cade\n",
    "     ((eq '= (car expression))) ; assignment ---> Cade\n",
    "     ((eq 'return (car expression))) ; return \n",
    "     () ; while\n",
    "     () ; if \n",
    "     ())))\n",
    "  \n",
    "(define M_int ; -----> Cade\n",
    "  (lambda (expression) ; does this need state?\n",
    "    ()))\n",
    "\n",
    "(define M_name ; ----> Cade\n",
    "  (lambda (variable)\n",
    "    (cond\n",
    "     () \n",
    "     )))\n",
    "\n",
    "(define M_value\n",
    "  (lambda (assignment state)\n",
    "    (cond\n",
    "     ()\n",
    "     ())))\n",
    "\n",
    "(define M_boolean\n",
    "  (lambda (condition state)\n",
    "    (cond)))\n",
    "\n",
    "(define add ; ---> Cade\n",
    "  (lambda (variable value state)))\n",
    "\n",
    "(define remove ; ---> Cade\n",
    "  (lambda (variable state)))"
   ]
  },
  {
   "cell_type": "code",
   "execution_count": 8,
   "metadata": {},
   "outputs": [],
   "source": [
    "(define parse '((var x) (= x 10) (var y (+ (* 3 x) 5)) (while (!= (% y x) 3) (= y (+ y 1))) (if (> x y) (return x) (if (> (* x x) y) (return (* x x)) (if (> (* x (+ x x)) y) (return (* x (+ x x))) (return (- y 1)))))))"
   ]
  },
  {
   "cell_type": "code",
   "execution_count": 225,
   "metadata": {},
   "outputs": [
    {
     "name": "stderr",
     "output_type": "stream",
     "text": [
      "parse: undefined;\n",
      " cannot reference an identifier before its definition\n",
      "  in module: top-level\n",
      "  context...:\n",
      "   body of top-level\n"
     ]
    }
   ],
   "source": [
    "(car (car parse))"
   ]
  },
  {
   "cell_type": "code",
   "execution_count": 11,
   "metadata": {},
   "outputs": [
    {
     "data": {
      "text/html": [
       "<code>#t</code>"
      ],
      "text/plain": [
       "#t"
      ]
     },
     "execution_count": 11,
     "metadata": {},
     "output_type": "execute_result"
    }
   ],
   "source": [
    "(eq? 'var (car (car parse)))"
   ]
  },
  {
   "cell_type": "code",
   "execution_count": 12,
   "metadata": {},
   "outputs": [],
   "source": [
    "(define interpret\n",
    "  (lambda (parse state)\n",
    "    (cond\n",
    "     ((null? (cdr parse)) '())\n",
    "     ((null? (parse)) '())\n",
    "     (else (interpret (cdr parse) (M_state (car parse)))))))"
   ]
  },
  {
   "cell_type": "code",
   "execution_count": 19,
   "metadata": {},
   "outputs": [],
   "source": [
    "\n",
    "(define M_value\n",
    "  (lambda (expression s)\n",
    "    (cond \n",
    "     ((null? expression) '())\n",
    "     ((or  (eq? (operator expression) '+)\n",
    "          (eq? (operator expression) '-)\n",
    "          (eq? (operator expression) '%)\n",
    "          (eq? (operator expression) '/)\n",
    "          (eq? (operator expression) '*))\n",
    "      (M-integer expression s))\n",
    "     ((and (null? (cdr expression)) (number? (car expression))) (car expression)))))\n",
    "  "
   ]
  },
  {
   "cell_type": "code",
   "execution_count": 22,
   "metadata": {},
   "outputs": [
    {
     "name": "stderr",
     "output_type": "stream",
     "text": [
      "var not assigned value\n",
      "  context...:\n",
      "   body of top-level\n",
      "   eval:8:2: M-integer\n"
     ]
    }
   ],
   "source": [
    "(M_value '(+ z c) state)"
   ]
  },
  {
   "cell_type": "code",
   "execution_count": 21,
   "metadata": {},
   "outputs": [
    {
     "name": "stderr",
     "output_type": "stream",
     "text": [
      "variable not assigned\n",
      "  context...:\n",
      "   body of top-level\n"
     ]
    }
   ],
   "source": [
    "(define get_var_value\n",
    "  (lambda (var s)\n",
    "    (cond\n",
    "        ((null? (vars s)) (error \"variable not assigned\"))\n",
    "        ((eq? (car (vars s)) var) (if (eq? (car (vals s))  '()) (error \"var not assigned value\") (car (vals s))))\n",
    "        (else (get_var_value var (cons (cdr (vars s))(list (cdr (vals s)))))))))\n",
    "\n",
    "(get_var_value 't state)"
   ]
  },
  {
   "cell_type": "code",
   "execution_count": 23,
   "metadata": {},
   "outputs": [
    {
     "name": "stderr",
     "output_type": "stream",
     "text": [
      "var not assigned value\n",
      "  context...:\n",
      "   body of top-level\n"
     ]
    }
   ],
   "source": [
    "(get_var_value 'y state)"
   ]
  },
  {
   "cell_type": "code",
   "execution_count": 324,
   "metadata": {},
   "outputs": [
    {
     "data": {
      "text/html": [
       "<code>#t</code>"
      ],
      "text/plain": [
       "#t"
      ]
     },
     "execution_count": 324,
     "metadata": {},
     "output_type": "execute_result"
    }
   ],
   "source": [
    "(number? '1)"
   ]
  },
  {
   "cell_type": "code",
   "execution_count": 336,
   "metadata": {},
   "outputs": [
    {
     "data": {
      "text/html": [
       "<code>'((1 2 3 4 5 6 7 8 9))</code>"
      ],
      "text/plain": [
       "'((1 2 3 4 5 6 7 8 9))"
      ]
     },
     "execution_count": 336,
     "metadata": {},
     "output_type": "execute_result"
    }
   ],
   "source": [
    "(cdr state)"
   ]
  },
  {
   "cell_type": "code",
   "execution_count": 374,
   "metadata": {},
   "outputs": [
    {
     "data": {
      "text/html": [
       "<code>'((1+2))</code>"
      ],
      "text/plain": [
       "'((1+2))"
      ]
     },
     "execution_count": 374,
     "metadata": {},
     "output_type": "execute_result"
    }
   ],
   "source": [
    "(cddr '(= x (1+2)))"
   ]
  },
  {
   "cell_type": "code",
   "execution_count": 377,
   "metadata": {},
   "outputs": [
    {
     "data": {
      "text/html": [
       "<code>'()</code>"
      ],
      "text/plain": [
       "'()"
      ]
     },
     "execution_count": 377,
     "metadata": {},
     "output_type": "execute_result"
    }
   ],
   "source": [
    "(cddr '(var x))"
   ]
  },
  {
   "cell_type": "code",
   "execution_count": 378,
   "metadata": {},
   "outputs": [
    {
     "data": {
      "text/html": [
       "<code>'(10)</code>"
      ],
      "text/plain": [
       "'(10)"
      ]
     },
     "execution_count": 378,
     "metadata": {},
     "output_type": "execute_result"
    }
   ],
   "source": [
    "(cddr '(var x 10))"
   ]
  },
  {
   "cell_type": "code",
   "execution_count": 379,
   "metadata": {},
   "outputs": [
    {
     "data": {
      "text/html": [
       "<code>'x</code>"
      ],
      "text/plain": [
       "'x"
      ]
     },
     "execution_count": 379,
     "metadata": {},
     "output_type": "execute_result"
    }
   ],
   "source": [
    "(cadr '(var x 10))"
   ]
  },
  {
   "cell_type": "code",
   "execution_count": 380,
   "metadata": {},
   "outputs": [
    {
     "data": {
      "text/html": [
       "<code>'(() a)</code>"
      ],
      "text/plain": [
       "'(() a)"
      ]
     },
     "execution_count": 380,
     "metadata": {},
     "output_type": "execute_result"
    }
   ],
   "source": [
    "(cons null '(a))"
   ]
  },
  {
   "cell_type": "code",
   "execution_count": 67,
   "metadata": {},
   "outputs": [],
   "source": [
    "'(var x assignment)\n",
    "\n",
    "(define M_declaration\n",
    "  (lambda (expression s)\n",
    "    (cond\n",
    "      ((eq? (declr-assign expression) null) (add (remove s (declr-var expression)) (declr-var expression) '()))\n",
    "      (else (add \n",
    "             (remove s (declr-var expression)) (declr-var expression) (M_value (car (declr-assign expression)) s))))))\n",
    "\n",
    "; abstractions \n",
    "(define declr-var cadr)\n",
    "(define declr-assign cddr)\n"
   ]
  },
  {
   "cell_type": "code",
   "execution_count": 68,
   "metadata": {},
   "outputs": [
    {
     "data": {
      "text/html": [
       "<code>'((x a b c d e f g h i) (4 1 2 3 4 5 6 7 8 9))</code>"
      ],
      "text/plain": [
       "'((x a b c d e f g h i) (4 1 2 3 4 5 6 7 8 9))"
      ]
     },
     "execution_count": 68,
     "metadata": {},
     "output_type": "execute_result"
    }
   ],
   "source": [
    "(M_declaration '(var x (+ 1 (+ a b))) state)"
   ]
  },
  {
   "cell_type": "code",
   "execution_count": 26,
   "metadata": {},
   "outputs": [
    {
     "name": "stderr",
     "output_type": "stream",
     "text": [
      "variable not assigned\n",
      "  context...:\n",
      "   body of top-level\n",
      "   eval:8:2: M-integer\n"
     ]
    }
   ],
   "source": [
    "(M_value (car (declr-assign '(var x (+ 1 (+ 2 3))))) state)"
   ]
  },
  {
   "cell_type": "code",
   "execution_count": 51,
   "metadata": {},
   "outputs": [
    {
     "data": {
      "text/html": [
       "<code>10</code>"
      ],
      "text/plain": [
       "10"
      ]
     },
     "execution_count": 51,
     "metadata": {},
     "output_type": "execute_result"
    }
   ],
   "source": [
    "(M_value '(10) state)"
   ]
  },
  {
   "cell_type": "code",
   "execution_count": 413,
   "metadata": {},
   "outputs": [
    {
     "data": {
      "text/html": [
       "<code>'((+ 5 4))</code>"
      ],
      "text/plain": [
       "'((+ 5 4))"
      ]
     },
     "execution_count": 413,
     "metadata": {},
     "output_type": "execute_result"
    }
   ],
   "source": [
    "(declr-assign '(var x (+ 5 4)))"
   ]
  },
  {
   "cell_type": "code",
   "execution_count": 427,
   "metadata": {},
   "outputs": [
    {
     "data": {
      "text/html": [
       "<code>'((+ 1 (+ 4 5)))</code>"
      ],
      "text/plain": [
       "'((+ 1 (+ 4 5)))"
      ]
     },
     "execution_count": 427,
     "metadata": {},
     "output_type": "execute_result"
    }
   ],
   "source": [
    "(declr-assign '(var x (+ 1 (+ 4 5))))"
   ]
  },
  {
   "cell_type": "code",
   "execution_count": 426,
   "metadata": {},
   "outputs": [
    {
     "data": {
      "text/html": [
       "<code>'((a b c d e f g h y i z) (1 2 3 4 5 6 7 8 () 9 ()))</code>"
      ],
      "text/plain": [
       "'((a b c d e f g h y i z) (1 2 3 4 5 6 7 8 () 9 ()))"
      ]
     },
     "execution_count": 426,
     "metadata": {},
     "output_type": "execute_result"
    }
   ],
   "source": [
    "state"
   ]
  },
  {
   "cell_type": "code",
   "execution_count": 30,
   "metadata": {},
   "outputs": [
    {
     "name": "stderr",
     "output_type": "stream",
     "text": [
      "variable not assigned\n",
      "  context...:\n",
      "   body of top-level\n",
      "   eval:8:2: M-integer\n"
     ]
    }
   ],
   "source": [
    "(M-integer '(+ 1 (+ 2 3)) state)"
   ]
  },
  {
   "cell_type": "code",
   "execution_count": 37,
   "metadata": {},
   "outputs": [
    {
     "data": {
      "text/html": [
       "<code>'(+ 20 40)</code>"
      ],
      "text/plain": [
       "'(+ 20 40)"
      ]
     },
     "execution_count": 37,
     "metadata": {},
     "output_type": "execute_result"
    }
   ],
   "source": [
    "(rightoperand '(+ 10 (+ 20 40)))"
   ]
  },
  {
   "cell_type": "code",
   "execution_count": 63,
   "metadata": {},
   "outputs": [
    {
     "data": {
      "text/html": [
       "<code>102</code>"
      ],
      "text/plain": [
       "102"
      ]
     },
     "execution_count": 63,
     "metadata": {},
     "output_type": "execute_result"
    }
   ],
   "source": [
    "(M-integer '(+ 100 (+ a 1)) state)"
   ]
  },
  {
   "cell_type": "code",
   "execution_count": null,
   "metadata": {},
   "outputs": [],
   "source": []
  }
 ],
 "metadata": {
  "kernelspec": {
   "display_name": "Racket",
   "language": "racket",
   "name": "racket"
  },
  "language_info": {
   "codemirror_mode": "scheme",
   "file_extension": ".rkt",
   "mimetype": "text/x-racket",
   "name": "Racket",
   "pygments_lexer": "racket",
   "version": "8.0"
  }
 },
 "nbformat": 4,
 "nbformat_minor": 4
}
